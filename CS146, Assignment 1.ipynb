{
 "cells": [
  {
   "cell_type": "markdown",
   "metadata": {},
   "source": [
    "Confirm your solution to Exercise 6 numerically by writing a Python script. They’re harder than you think and there’s a good chance you got them wrong without realizing it. Generate a list of uniformly distributed random numbers using the random.uniform() function in the numpy module. a. Check whether the first number is greater than all other numbers. b. Check whether the first number is less than all other numbers. c. Check whether the first number is greater than at least half of the other numbers. Do this 1,000,000 times and count how often each of the above three events happen. Use your counts to report the approximate probability for each event. "
   ]
  },
  {
   "cell_type": "code",
   "execution_count": 18,
   "metadata": {
    "collapsed": false
   },
   "outputs": [],
   "source": [
    "import numpy as np"
   ]
  },
  {
   "cell_type": "code",
   "execution_count": 77,
   "metadata": {
    "collapsed": false
   },
   "outputs": [],
   "source": [
    "def maxi(l):\n",
    "    maximum = l[0]\n",
    "    for i in l:\n",
    "        if maximum < i:\n",
    "            return False\n",
    "    return True"
   ]
  },
  {
   "cell_type": "code",
   "execution_count": 78,
   "metadata": {
    "collapsed": true
   },
   "outputs": [],
   "source": [
    "def mini(l):\n",
    "    minimum = l[0]\n",
    "    for i in l:\n",
    "        if minimum > i:\n",
    "            return False\n",
    "    return True"
   ]
  },
  {
   "cell_type": "code",
   "execution_count": 79,
   "metadata": {
    "collapsed": true
   },
   "outputs": [],
   "source": [
    "def half(l):\n",
    "    number = l[0]\n",
    "    new = []\n",
    "    for i in l:\n",
    "        if number > i:\n",
    "            new.append(i)\n",
    "    if len(new) > len(l)/2.:\n",
    "        return True\n",
    "    return False"
   ]
  },
  {
   "cell_type": "code",
   "execution_count": 80,
   "metadata": {
    "collapsed": false
   },
   "outputs": [
    {
     "name": "stdout",
     "output_type": "stream",
     "text": [
      "0.071157\n",
      "0.070786\n",
      "0.428978\n"
     ]
    }
   ],
   "source": [
    "ma = 0\n",
    "mi = 0\n",
    "ha = 0\n",
    "\n",
    "for i in range(1000000):\n",
    "    l = [np.random.random() for i in range(14)]\n",
    "    if maxi(l) == True:\n",
    "        ma += 1\n",
    "    if mini(l) == True:\n",
    "        mi += 1\n",
    "    if half(l) == True:\n",
    "        ha += 1\n",
    "print ma/1000000.\n",
    "print mi/1000000.\n",
    "print ha/1000000."
   ]
  },
  {
   "cell_type": "markdown",
   "metadata": {},
   "source": [
    "Write a Python script to confirm your answer to question 2. Generate a lot of random\n",
    "numbers from a normal distribution with a particular mean and standard deviation.\n",
    "Calculate f(x) for each of these random numbers. How many of them are greater than 0.5?\n",
    "Does that match the probability you calculated in question 2?"
   ]
  },
  {
   "cell_type": "code",
   "execution_count": 51,
   "metadata": {
    "collapsed": true
   },
   "outputs": [],
   "source": [
    "def f(x):\n",
    "    return x**3 +3."
   ]
  },
  {
   "cell_type": "code",
   "execution_count": 52,
   "metadata": {
    "collapsed": false
   },
   "outputs": [
    {
     "name": "stdout",
     "output_type": "stream",
     "text": [
      "12\n"
     ]
    }
   ],
   "source": [
    "s = np.random.normal(0, 1, 100000)\n",
    "res = []\n",
    "\n",
    "for i in s:\n",
    "    if f(i) > 0.5:\n",
    "        res.append(f(i))\n",
    "print len(res)\n",
    "    \n"
   ]
  }
 ],
 "metadata": {
  "kernelspec": {
   "display_name": "Python 2",
   "language": "python",
   "name": "python2"
  },
  "language_info": {
   "codemirror_mode": {
    "name": "ipython",
    "version": 2
   },
   "file_extension": ".py",
   "mimetype": "text/x-python",
   "name": "python",
   "nbconvert_exporter": "python",
   "pygments_lexer": "ipython2",
   "version": "2.7.12"
  }
 },
 "nbformat": 4,
 "nbformat_minor": 2
}
