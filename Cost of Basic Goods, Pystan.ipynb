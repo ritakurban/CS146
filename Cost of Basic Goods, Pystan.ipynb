{
 "cells": [
  {
   "cell_type": "code",
   "execution_count": 1,
   "metadata": {
    "collapsed": true
   },
   "outputs": [],
   "source": [
    "# Import all the packages\n",
    "import pystan\n",
    "import numpy as np\n",
    "import matplotlib.pyplot as plt\n",
    "from scipy import stats\n",
    "import pandas as pd\n",
    "from scipy.stats.stats import pearsonr"
   ]
  },
  {
   "cell_type": "code",
   "execution_count": 225,
   "metadata": {
    "collapsed": false
   },
   "outputs": [],
   "source": [
    "# Data\n",
    "df = pd.read_csv(\"/Users/ritakurban/Downloads/lba_dat.csv\")\n",
    "# Convert everyhing to lower case\n",
    "df = df.apply(lambda x: x.astype(str).str.lower())\n",
    "df.columns = map(str.lower, df.columns)\n",
    "# Drop columns that aren't used in the model\n",
    "df = df.drop([\"your name\",\"timestamp\", \"email address\", \"Grocery store street address\"], axis=1)"
   ]
  },
  {
   "cell_type": "code",
   "execution_count": 226,
   "metadata": {
    "collapsed": false
   },
   "outputs": [],
   "source": [
    "# Rearrange the df so that we only have 5 columns (including the type of product)\n",
    "res = pd.concat([df.iloc[:,0:2], df.iloc[:,2:4] ], axis=1, join='inner')\n",
    "res.columns =['store', 'neighborhood', 'brand', 'price']\n",
    "\n",
    "for i in range(4, 62,2):\n",
    "    data = pd.concat([df.iloc[:,0:2], df.iloc[:,i:(i+2)] ], axis=1, join='inner')\n",
    "    data.columns =['store', 'neighborhood', 'brand', 'price']\n",
    "    res = pd.concat([res, data], axis=0, join='outer', ignore_index=False,\n",
    "           keys=None, levels=None, names=None, verify_integrity=False,\n",
    "           copy=True)\n",
    "\n",
    "    # Add the product column\n",
    "prod = [\"apples\"]*240+[\"bananas\"]*240+[\"tomatoes\"]*240+[\"potatoes\"]*240+[\"flour\"]*240+[\"rice\"]*240+[\"milk\"]*240+[\"butter\"]*240+[\"eggs\"]*240+[\"chicken\"]*240\n",
    "prod\n",
    "res[\"product\"]=prod\n"
   ]
  },
  {
   "cell_type": "code",
   "execution_count": 227,
   "metadata": {
    "collapsed": false
   },
   "outputs": [
    {
     "data": {
      "text/html": [
       "<div>\n",
       "<table border=\"1\" class=\"dataframe\">\n",
       "  <thead>\n",
       "    <tr style=\"text-align: right;\">\n",
       "      <th></th>\n",
       "      <th>Product</th>\n",
       "      <th>Average Price</th>\n",
       "    </tr>\n",
       "  </thead>\n",
       "  <tbody>\n",
       "    <tr>\n",
       "      <th>0</th>\n",
       "      <td>Apples</td>\n",
       "      <td>2.282711</td>\n",
       "    </tr>\n",
       "    <tr>\n",
       "      <th>1</th>\n",
       "      <td>Bananas</td>\n",
       "      <td>1.431739</td>\n",
       "    </tr>\n",
       "    <tr>\n",
       "      <th>7</th>\n",
       "      <td>Butter</td>\n",
       "      <td>4.077870</td>\n",
       "    </tr>\n",
       "    <tr>\n",
       "      <th>9</th>\n",
       "      <td>Chicken</td>\n",
       "      <td>9.845563</td>\n",
       "    </tr>\n",
       "    <tr>\n",
       "      <th>8</th>\n",
       "      <td>Eggs</td>\n",
       "      <td>2.574876</td>\n",
       "    </tr>\n",
       "    <tr>\n",
       "      <th>4</th>\n",
       "      <td>Flour</td>\n",
       "      <td>1.064358</td>\n",
       "    </tr>\n",
       "    <tr>\n",
       "      <th>6</th>\n",
       "      <td>Milk</td>\n",
       "      <td>1.045189</td>\n",
       "    </tr>\n",
       "    <tr>\n",
       "      <th>3</th>\n",
       "      <td>Potatoes</td>\n",
       "      <td>1.352609</td>\n",
       "    </tr>\n",
       "    <tr>\n",
       "      <th>5</th>\n",
       "      <td>Rice</td>\n",
       "      <td>2.338808</td>\n",
       "    </tr>\n",
       "    <tr>\n",
       "      <th>2</th>\n",
       "      <td>Tomatoes</td>\n",
       "      <td>3.436967</td>\n",
       "    </tr>\n",
       "  </tbody>\n",
       "</table>\n",
       "</div>"
      ],
      "text/plain": [
       "    Product  Average Price\n",
       "0    Apples       2.282711\n",
       "1   Bananas       1.431739\n",
       "7    Butter       4.077870\n",
       "9   Chicken       9.845563\n",
       "8      Eggs       2.574876\n",
       "4     Flour       1.064358\n",
       "6      Milk       1.045189\n",
       "3  Potatoes       1.352609\n",
       "5      Rice       2.338808\n",
       "2  Tomatoes       3.436967"
      ]
     },
     "execution_count": 227,
     "metadata": {},
     "output_type": "execute_result"
    }
   ],
   "source": [
    "# Calculate average price of products\n",
    "count = 0\n",
    "summa = 0\n",
    "avg_prices = []\n",
    "for i in range(0, 2400, 240):\n",
    "    current_product = res.price[i:(i+240)].tolist()\n",
    "    for j in range(len(current_product)):\n",
    "        if current_product[j] != \"nan\":\n",
    "            count +=1\n",
    "            summa += float(current_product[j])\n",
    "    average = summa/count\n",
    "    summa = 0\n",
    "    count = 0\n",
    "    avg_prices.append(average)\n",
    "    \n",
    "products=[\"Apples\", \"Bananas\",\"Tomatoes\", \"Potatoes\", \"Flour\",\"Rice\", \"Milk\", \"Butter\",\"Eggs\", \"Chicken\"]\n",
    "mean_p =pd.DataFrame(products)\n",
    "mean_p['price'] = avg_prices\n",
    "mean_p.columns =['Product','Average Price']\n",
    "mean_p = mean_p.sort_values(by='Product')\n",
    "mean_p"
   ]
  },
  {
   "cell_type": "code",
   "execution_count": 229,
   "metadata": {
    "collapsed": false
   },
   "outputs": [
    {
     "data": {
      "text/plain": [
       "1678"
      ]
     },
     "execution_count": 229,
     "metadata": {},
     "output_type": "execute_result"
    }
   ],
   "source": [
    "# Delete rows that don't contail any price values\n",
    "res = res[res['price'] != \"nan\"]\n",
    "# Delete rows that are not in Berlin\n",
    "res = res[res['neighborhood'] != \"other\"]\n"
   ]
  },
  {
   "cell_type": "code",
   "execution_count": 230,
   "metadata": {
    "collapsed": false
   },
   "outputs": [
    {
     "data": {
      "text/html": [
       "<div>\n",
       "<table border=\"1\" class=\"dataframe\">\n",
       "  <thead>\n",
       "    <tr style=\"text-align: right;\">\n",
       "      <th></th>\n",
       "      <th>store</th>\n",
       "      <th>neighborhood</th>\n",
       "      <th>brand</th>\n",
       "      <th>price</th>\n",
       "      <th>product</th>\n",
       "    </tr>\n",
       "  </thead>\n",
       "  <tbody>\n",
       "    <tr>\n",
       "      <th>0</th>\n",
       "      <td>3</td>\n",
       "      <td>5</td>\n",
       "      <td>534</td>\n",
       "      <td>2.49</td>\n",
       "      <td>1</td>\n",
       "    </tr>\n",
       "    <tr>\n",
       "      <th>1</th>\n",
       "      <td>3</td>\n",
       "      <td>5</td>\n",
       "      <td>534</td>\n",
       "      <td>2.49</td>\n",
       "      <td>1</td>\n",
       "    </tr>\n",
       "    <tr>\n",
       "      <th>2</th>\n",
       "      <td>1</td>\n",
       "      <td>8</td>\n",
       "      <td>311</td>\n",
       "      <td>2.72</td>\n",
       "      <td>1</td>\n",
       "    </tr>\n",
       "    <tr>\n",
       "      <th>3</th>\n",
       "      <td>2</td>\n",
       "      <td>5</td>\n",
       "      <td>534</td>\n",
       "      <td>1.99</td>\n",
       "      <td>1</td>\n",
       "    </tr>\n",
       "    <tr>\n",
       "      <th>4</th>\n",
       "      <td>2</td>\n",
       "      <td>3</td>\n",
       "      <td>342</td>\n",
       "      <td>1.99</td>\n",
       "      <td>1</td>\n",
       "    </tr>\n",
       "  </tbody>\n",
       "</table>\n",
       "</div>"
      ],
      "text/plain": [
       "   store  neighborhood  brand price  product\n",
       "0      3             5    534  2.49        1\n",
       "1      3             5    534  2.49        1\n",
       "2      1             8    311  2.72        1\n",
       "3      2             5    534  1.99        1\n",
       "4      2             3    342  1.99        1"
      ]
     },
     "execution_count": 230,
     "metadata": {},
     "output_type": "execute_result"
    }
   ],
   "source": [
    "# Label Encoder to convert categorical variables to integers\n",
    "from sklearn import preprocessing\n",
    "lp = preprocessing.LabelEncoder()\n",
    "ln = preprocessing.LabelEncoder()\n",
    "lb = preprocessing.LabelEncoder()\n",
    "ls = preprocessing.LabelEncoder()\n",
    "\n",
    "res['product'] = lp.fit_transform(res[\"product\"])\n",
    "res['product'] = [x+1 for x in res['product']]\n",
    "res['neighborhood'] = ln.fit_transform(res[\"neighborhood\"])\n",
    "res['neighborhood'] = [x+1 for x in res['neighborhood']]\n",
    "res['brand'] = lb.fit_transform(res[\"brand\"])\n",
    "res['brand'] = [x+1 for x in res['brand']]\n",
    "res['store'] = ls.fit_transform(res[\"store\"])\n",
    "res['store'] = [x+1 for x in res['store']]\n",
    "\n",
    "res.head()"
   ]
  },
  {
   "cell_type": "code",
   "execution_count": 324,
   "metadata": {
    "collapsed": false
   },
   "outputs": [],
   "source": [
    "# Convert str to float\n",
    "pr = res.price.tolist()\n",
    "price = [float(x) for x in pr]\n",
    "\n",
    "# Data in a stan format\n",
    "stan_data = {\n",
    "    'alpha': 9,  # fixed prior hyperparameters\n",
    "    'beta': 8, \n",
    "    'l': 2, \n",
    "    's': 5, \n",
    "    'sigma': 0.1,# normal distribution\n",
    "    'product': res['product'].tolist(), # list of products\n",
    "    'store': res['store'].tolist(), # list of stores\n",
    "    'neighborhood': res['neighborhood'].tolist(),# list of neighborhoods\n",
    "    'brand': res['brand'].tolist(), #list of brands\n",
    "    'price': price, # list of prices\n",
    "    'N': len(res), # number of observaions\n",
    "    'N_brand': len(lb.classes_), # number of brands\n",
    "    'N_prod': len(lp.classes_), # number of products\n",
    "    'N_neigh': len(ln.classes_), # number of neighborhoods\n",
    "    'N_store': len(ls.classes_) # number of stores\n",
    "    }"
   ]
  },
  {
   "cell_type": "code",
   "execution_count": 205,
   "metadata": {
    "collapsed": false
   },
   "outputs": [],
   "source": [
    "# Stan Model\n",
    "stan_code = \"\"\"\n",
    "\n",
    "data {  \n",
    "    int < lower = 1 > N; // Number of observations\n",
    "    int < lower = 1 > N_store; // Number of stores\n",
    "    int < lower = 1 > N_neigh; // Number of neighborhoods\n",
    "    int < lower = 1 > N_prod; // Number of products\n",
    "    int < lower = 1 > N_brand; // Number of brands\n",
    "    real<lower=0> price[N]; //observed price of each product \n",
    "    int<lower=0> store[N]; //type of store\n",
    "    int<lower=0> product[N]; //product type\n",
    "    int<lower=0> neighborhood[N]; //neighborhood\n",
    "    int<lower=0> brand[N]; //brand\n",
    "    \n",
    "    real<lower=0> alpha;   // fixed prior hyperparameters for Cauchy, gamma, and normal\n",
    "    real<lower=0> beta;   // \n",
    "    real<lower=0> sigma; // \n",
    "    real<lower=0> s;   // \n",
    "    real<lower=0> l;   // \n",
    "}\n",
    "\n",
    "parameters {\n",
    "    real <lower=0> base_price[N_prod]; // mutipliers for each store, brand, and neighborhood + base prices\n",
    "    real <lower=0> st[N_store]; //\n",
    "    real <lower=0> neigh[N_neigh]; //\n",
    "    real <lower=0> br[N_brand]; //\n",
    "    \n",
    "}\n",
    "\n",
    "model {\n",
    "    base_price ~ cauchy(l, s); // Cauchy prior on base price that can be scaled to other currencies\n",
    "    st ~ gamma(alpha, beta); // Beta prior on multipliers\n",
    "    neigh ~ gamma(alpha, beta);\n",
    "    br ~ gamma(alpha, beta);\n",
    "    for (i in 1:N) {\n",
    "        price[i] ~ normal(base_price[product[i]]*st[store[i]]*neigh[neighborhood[i]]*br[brand[i]], sigma);  // normal likelihood function\n",
    "    }\n",
    "}\n",
    "\n",
    "\"\"\""
   ]
  },
  {
   "cell_type": "code",
   "execution_count": 206,
   "metadata": {
    "collapsed": false
   },
   "outputs": [
    {
     "name": "stderr",
     "output_type": "stream",
     "text": [
      "INFO:pystan:COMPILING THE C++ CODE FOR MODEL anon_model_82fbcbf8f8b3da29e4c28f2a28aafd4d NOW.\n"
     ]
    }
   ],
   "source": [
    "# Compiling a Stan model \n",
    "stan = pystan.StanModel(model_code=stan_code)"
   ]
  },
  {
   "cell_type": "code",
   "execution_count": 232,
   "metadata": {
    "collapsed": false
   },
   "outputs": [
    {
     "name": "stderr",
     "output_type": "stream",
     "text": [
      "WARNING:pystan:4000 of 4000 iterations saturated the maximum tree depth of 10 (100%)\n",
      "WARNING:pystan:Run again with max_treedepth larger than 10 to avoid saturation\n"
     ]
    }
   ],
   "source": [
    "# Get samples\n",
    "full_res = stan.sampling(data=stan_data)"
   ]
  },
  {
   "cell_type": "code",
   "execution_count": 233,
   "metadata": {
    "collapsed": false
   },
   "outputs": [
    {
     "name": "stdout",
     "output_type": "stream",
     "text": [
      "Inference for Stan model: anon_model_82fbcbf8f8b3da29e4c28f2a28aafd4d.\n",
      "4 chains, each with iter=2000; warmup=1000; thin=1; \n",
      "post-warmup draws per chain=1000, total post-warmup draws=4000.\n",
      "\n"]
    }
   ],
   "source": [
    "print full_res"
   ]
  },
  {
   "cell_type": "code",
   "execution_count": 234,
   "metadata": {
    "collapsed": false
   },
   "outputs": [
    {
     "data": {
      "text/html": [
       "<div>\n",
       "<table border=\"1\" class=\"dataframe\">\n",
       "  <thead>\n",
       "    <tr style=\"text-align: right;\">\n",
       "      <th></th>\n",
       "      <th>Product</th>\n",
       "      <th>Average Price</th>\n",
       "      <th>Base Price</th>\n",
       "    </tr>\n",
       "  </thead>\n",
       "  <tbody>\n",
       "    <tr>\n",
       "      <th>0</th>\n",
       "      <td>Apples</td>\n",
       "      <td>2.282711</td>\n",
       "      <td>2.320302</td>\n",
       "    </tr>\n",
       "    <tr>\n",
       "      <th>1</th>\n",
       "      <td>Bananas</td>\n",
       "      <td>1.431739</td>\n",
       "      <td>1.474612</td>\n",
       "    </tr>\n",
       "    <tr>\n",
       "      <th>7</th>\n",
       "      <td>Butter</td>\n",
       "      <td>4.077870</td>\n",
       "      <td>4.713260</td>\n",
       "    </tr>\n",
       "    <tr>\n",
       "      <th>9</th>\n",
       "      <td>Chicken</td>\n",
       "      <td>9.845563</td>\n",
       "      <td>17.061648</td>\n",
       "    </tr>\n",
       "    <tr>\n",
       "      <th>8</th>\n",
       "      <td>Eggs</td>\n",
       "      <td>2.574876</td>\n",
       "      <td>3.381703</td>\n",
       "    </tr>\n",
       "    <tr>\n",
       "      <th>4</th>\n",
       "      <td>Flour</td>\n",
       "      <td>1.064358</td>\n",
       "      <td>1.056122</td>\n",
       "    </tr>\n",
       "    <tr>\n",
       "      <th>6</th>\n",
       "      <td>Milk</td>\n",
       "      <td>1.045189</td>\n",
       "      <td>1.037010</td>\n",
       "    </tr>\n",
       "    <tr>\n",
       "      <th>3</th>\n",
       "      <td>Potatoes</td>\n",
       "      <td>1.352609</td>\n",
       "      <td>1.308455</td>\n",
       "    </tr>\n",
       "    <tr>\n",
       "      <th>5</th>\n",
       "      <td>Rice</td>\n",
       "      <td>2.338808</td>\n",
       "      <td>2.440597</td>\n",
       "    </tr>\n",
       "    <tr>\n",
       "      <th>2</th>\n",
       "      <td>Tomatoes</td>\n",
       "      <td>3.436967</td>\n",
       "      <td>3.452220</td>\n",
       "    </tr>\n",
       "  </tbody>\n",
       "</table>\n",
       "</div>"
      ],
      "text/plain": [
       "    Product  Average Price  Base Price\n",
       "0    Apples       2.282711    2.320302\n",
       "1   Bananas       1.431739    1.474612\n",
       "7    Butter       4.077870    4.713260\n",
       "9   Chicken       9.845563   17.061648\n",
       "8      Eggs       2.574876    3.381703\n",
       "4     Flour       1.064358    1.056122\n",
       "6      Milk       1.045189    1.037010\n",
       "3  Potatoes       1.352609    1.308455\n",
       "5      Rice       2.338808    2.440597\n",
       "2  Tomatoes       3.436967    3.452220"
      ]
     },
     "execution_count": 234,
     "metadata": {},
     "output_type": "execute_result"
    }
   ],
   "source": [
    "# Base and average price comparison\n",
    "posterior_samples = full_res.extract()\n",
    "mean_p[\"Base Price\"] = posterior_samples[\"base_price\"].mean(axis=0)\n",
    "mean_p"
   ]
  },
  {
   "cell_type": "code",
   "execution_count": 320,
   "metadata": {
    "collapsed": false
   },
   "outputs": [
    {
     "name": "stderr",
     "output_type": "stream",
     "text": [
      "/usr/local/lib/python2.7/site-packages/sklearn/preprocessing/label.py:151: DeprecationWarning: The truth value of an empty array is ambiguous. Returning False, but in future this will result in an error. Use `array.size > 0` to check that an array is not empty.\n",
      "  if diff:\n"
     ]
    },
    {
     "data": {
      "text/html": [
       "<div>\n",
       "<table border=\"1\" class=\"dataframe\">\n",
       "  <thead>\n",
       "    <tr style=\"text-align: right;\">\n",
       "      <th></th>\n",
       "      <th>Store</th>\n",
       "      <th>Multiplier</th>\n",
       "    </tr>\n",
       "  </thead>\n",
       "  <tbody>\n",
       "    <tr>\n",
       "      <th>0</th>\n",
       "      <td>aldi</td>\n",
       "      <td>1.103302</td>\n",
       "    </tr>\n",
       "    <tr>\n",
       "      <th>1</th>\n",
       "      <td>edeka</td>\n",
       "      <td>0.850347</td>\n",
       "    </tr>\n",
       "    <tr>\n",
       "      <th>2</th>\n",
       "      <td>lidl</td>\n",
       "      <td>0.811144</td>\n",
       "    </tr>\n",
       "    <tr>\n",
       "      <th>3</th>\n",
       "      <td>rewe</td>\n",
       "      <td>0.929646</td>\n",
       "    </tr>\n",
       "  </tbody>\n",
       "</table>\n",
       "</div>"
      ],
      "text/plain": [
       "   Store  Multiplier\n",
       "0   aldi    1.103302\n",
       "1  edeka    0.850347\n",
       "2   lidl    0.811144\n",
       "3   rewe    0.929646"
      ]
     },
     "execution_count": 320,
     "metadata": {},
     "output_type": "execute_result"
    }
   ],
   "source": [
    "# Store multiplier\n",
    "store_mult = pd.DataFrame(ls.classes_)\n",
    "store_mult['multiplier'] = posterior_samples[\"st\"].mean(axis=0)\n",
    "store_mult.columns = ['Store', 'Multiplier']\n",
    "store_mult"
   ]
  },
  {
   "cell_type": "code",
   "execution_count": 322,
   "metadata": {
    "collapsed": false
   },
   "outputs": [
    {
     "data": {
      "image/png": "[encoded data removed]",
      "text/plain": [
       "<matplotlib.figure.Figure at 0x11c2e1690>"
      ]
     },
     "metadata": {},
     "output_type": "display_data"
    }
   ],
   "source": [
    "# Plot store samples\n",
    "plt.figure(figsize=(10, 6))\n",
    "for i in range(4):\n",
    "    plt.plot(stats.uniform.rvs(loc=i+1-0.1, scale=0.2, size=posterior_samples['st'].shape[0]), posterior_samples['st'][:,i], ',', alpha=0.5)\n",
    "plt.xticks(range(1, len(ls.classes_)+1), ls.classes_)\n",
    "plt.show()"
   ]
  },
  {
   "cell_type": "code",
   "execution_count": 236,
   "metadata": {
    "collapsed": false
   },
   "outputs": [
    {
     "data": {
      "text/html": [
       "<div>\n",
       "<table border=\"1\" class=\"dataframe\">\n",
       "  <thead>\n",
       "    <tr style=\"text-align: right;\">\n",
       "      <th></th>\n",
       "      <th>Neighborhood</th>\n",
       "      <th>Multiplier</th>\n",
       "    </tr>\n",
       "  </thead>\n",
       "  <tbody>\n",
       "    <tr>\n",
       "      <th>0</th>\n",
       "      <td>alt-treptow</td>\n",
       "      <td>0.964826</td>\n",
       "    </tr>\n",
       "    <tr>\n",
       "      <th>1</th>\n",
       "      <td>friedrichshain</td>\n",
       "      <td>1.080026</td>\n",
       "    </tr>\n",
       "    <tr>\n",
       "      <th>2</th>\n",
       "      <td>kreuzberg</td>\n",
       "      <td>1.065152</td>\n",
       "    </tr>\n",
       "    <tr>\n",
       "      <th>3</th>\n",
       "      <td>lichtenberg</td>\n",
       "      <td>0.954068</td>\n",
       "    </tr>\n",
       "    <tr>\n",
       "      <th>4</th>\n",
       "      <td>mitte</td>\n",
       "      <td>1.063220</td>\n",
       "    </tr>\n",
       "    <tr>\n",
       "      <th>5</th>\n",
       "      <td>neukoelln</td>\n",
       "      <td>0.847655</td>\n",
       "    </tr>\n",
       "    <tr>\n",
       "      <th>6</th>\n",
       "      <td>prenzlauer berg</td>\n",
       "      <td>0.915700</td>\n",
       "    </tr>\n",
       "    <tr>\n",
       "      <th>7</th>\n",
       "      <td>schoeneberg</td>\n",
       "      <td>1.094441</td>\n",
       "    </tr>\n",
       "    <tr>\n",
       "      <th>8</th>\n",
       "      <td>tempelhof</td>\n",
       "      <td>1.332327</td>\n",
       "    </tr>\n",
       "  </tbody>\n",
       "</table>\n",
       "</div>"
      ],
      "text/plain": [
       "      Neighborhood  Multiplier\n",
       "0      alt-treptow    0.964826\n",
       "1   friedrichshain    1.080026\n",
       "2        kreuzberg    1.065152\n",
       "3      lichtenberg    0.954068\n",
       "4            mitte    1.063220\n",
       "5        neukoelln    0.847655\n",
       "6  prenzlauer berg    0.915700\n",
       "7      schoeneberg    1.094441\n",
       "8        tempelhof    1.332327"
      ]
     },
     "execution_count": 236,
     "metadata": {},
     "output_type": "execute_result"
    }
   ],
   "source": [
    "# Neighborhood multipliers\n",
    "neigh_mult = pd.DataFrame(ln.classes_)\n",
    "neigh_mult['multiplier'] = posterior_samples[\"neigh\"].mean(axis=0)\n",
    "neigh_mult.columns = ['Neighborhood', 'Multiplier']\n",
    "neigh_mult"
   ]
  },
  {
   "cell_type": "code",
   "execution_count": 323,
   "metadata": {
    "collapsed": false
   },
   "outputs": [
    {
     "data": {
      "image/png": "[encoded data removed]",
      "text/plain": [
       "<matplotlib.figure.Figure at 0x11f49f890>"
      ]
     },
     "metadata": {},
     "output_type": "display_data"
    }
   ],
   "source": [
    "# Plot neighborhood samples\n",
    "plt.figure(figsize=(14, 6))\n",
    "for i in range(9):\n",
    "    plt.plot(stats.uniform.rvs(loc=i+1-0.1, scale=0.2, size=posterior_samples['neigh'].shape[0]), posterior_samples['neigh'][:,i], ',', alpha=0.5)\n",
    "plt.xticks(range(1, len(ln.classes_)+1), ln.classes_)\n",
    "plt.show()"
   ]
  },
  {
   "cell_type": "code",
   "execution_count": 270,
   "metadata": {
    "collapsed": false
   },
   "outputs": [
    {
     "data": {
      "text/html": [
       "<div>\n",
       "<table border=\"1\" class=\"dataframe\">\n",
       "  <thead>\n",
       "    <tr style=\"text-align: right;\">\n",
       "      <th></th>\n",
       "      <th>Neighborhood</th>\n",
       "      <th>Rent Price</th>\n",
       "      <th>Multiplier</th>\n",
       "    </tr>\n",
       "  </thead>\n",
       "  <tbody>\n",
       "    <tr>\n",
       "      <th>4</th>\n",
       "      <td>Alt-Treptow</td>\n",
       "      <td>794</td>\n",
       "      <td>0.964826</td>\n",
       "    </tr>\n",
       "    <tr>\n",
       "      <th>3</th>\n",
       "      <td>Friedrichshain</td>\n",
       "      <td>649</td>\n",
       "      <td>1.080026</td>\n",
       "    </tr>\n",
       "    <tr>\n",
       "      <th>7</th>\n",
       "      <td>Kreuzberg</td>\n",
       "      <td>863</td>\n",
       "      <td>1.065152</td>\n",
       "    </tr>\n",
       "    <tr>\n",
       "      <th>5</th>\n",
       "      <td>Lichtenberg</td>\n",
       "      <td>739</td>\n",
       "      <td>0.954068</td>\n",
       "    </tr>\n",
       "    <tr>\n",
       "      <th>1</th>\n",
       "      <td>Mitte</td>\n",
       "      <td>1044</td>\n",
       "      <td>1.063220</td>\n",
       "    </tr>\n",
       "    <tr>\n",
       "      <th>6</th>\n",
       "      <td>Neukoelln</td>\n",
       "      <td>812</td>\n",
       "      <td>0.847655</td>\n",
       "    </tr>\n",
       "    <tr>\n",
       "      <th>0</th>\n",
       "      <td>Prenzlauer Berg</td>\n",
       "      <td>865</td>\n",
       "      <td>0.915700</td>\n",
       "    </tr>\n",
       "    <tr>\n",
       "      <th>8</th>\n",
       "      <td>Schoeneberg</td>\n",
       "      <td>797</td>\n",
       "      <td>1.094441</td>\n",
       "    </tr>\n",
       "    <tr>\n",
       "      <th>2</th>\n",
       "      <td>Tempelhof</td>\n",
       "      <td>743</td>\n",
       "      <td>1.332327</td>\n",
       "    </tr>\n",
       "  </tbody>\n",
       "</table>\n",
       "</div>"
      ],
      "text/plain": [
       "      Neighborhood  Rent Price  Multiplier\n",
       "4      Alt-Treptow         794    0.964826\n",
       "3   Friedrichshain         649    1.080026\n",
       "7        Kreuzberg         863    1.065152\n",
       "5      Lichtenberg         739    0.954068\n",
       "1            Mitte        1044    1.063220\n",
       "6        Neukoelln         812    0.847655\n",
       "0  Prenzlauer Berg         865    0.915700\n",
       "8      Schoeneberg         797    1.094441\n",
       "2        Tempelhof         743    1.332327"
      ]
     },
     "execution_count": 270,
     "metadata": {},
     "output_type": "execute_result"
    }
   ],
   "source": [
    "# Compare rent prices and multipliers\n",
    "neighborhoods = ['Prenzlauer Berg',  'Mitte','Tempelhof','Friedrichshain','Alt-Treptow','Lichtenberg','Neukoelln','Kreuzberg','Schoeneberg']\n",
    "rent_prices = [865,1044,743,649,794, 739,812,863,797]\n",
    "multipliers = posterior_samples[\"neigh\"].mean(axis=0)\n",
    "neigh_prices = pd.DataFrame(neighborhoods)\n",
    "neigh_prices['Prices'] = rent_prices\n",
    "neigh_prices.columns = ['Neighborhood', 'Rent Price']\n",
    "neigh_prices = neigh_prices.sort_values(by='Neighborhood')\n",
    "neigh_prices['Multiplier'] = multipliers\n",
    "neigh_prices"
   ]
  },
  {
   "cell_type": "code",
   "execution_count": 271,
   "metadata": {
    "collapsed": false
   },
   "outputs": [
    {
     "data": {
      "image/png": "[encoded data removed]",
      "text/plain": [
       "<matplotlib.figure.Figure at 0x109897450>"
      ]
     },
     "metadata": {},
     "output_type": "display_data"
    },
    {
     "name": "stdout",
     "output_type": "stream",
     "text": [
      "0.24078171709160334\n"
     ]
    }
   ],
   "source": [
    "# Scatter plot for rent and grocery prices\n",
    "fig, ax = plt.subplots()\n",
    "ax.scatter(rent_prices, multipliers)\n",
    "\n",
    "for i, txt in enumerate(neighborhoods):\n",
    "    ax.annotate(txt, (rent_prices[i], multipliers[i]))\n",
    "\n",
    "plt.plot(np.unique(rent_prices), np.poly1d(np.polyfit(rent_prices, multipliers, 1))(np.unique(rent_prices)))\n",
    "plt.show()\n",
    "\n",
    "# Calculate Pearson's R\n",
    "print pearsonr(rent_prices,multipliers)[0]"
   ]
  },
  {
   "cell_type": "code",
   "execution_count": 289,
   "metadata": {
    "collapsed": false
   },
   "outputs": [
    {
     "name": "stdout",
     "output_type": "stream",
     "text": [
      "Minimum Value of the Multiplier =  0.01432202233766675\n",
      "Mean Value of the Multiplier =  1.1243190437063384\n",
      "Maximum Value of the Multiplier =  8.641482011793387\n"
     ]
    }
   ],
   "source": [
    "# Brand multiplier values\n",
    "print \"Minimum Value of the Multiplier = \", posterior_samples[\"br\"].mean(axis=0).min(axis=0)\n",
    "print \"Mean Value of the Multiplier = \",posterior_samples[\"br\"].mean(axis=0).mean(axis=0)\n",
    "print \"Maximum Value of the Multiplier = \", posterior_samples[\"br\"].mean(axis=0).max(axis=0)\n",
    "\n"
   ]
  },
  {
   "cell_type": "code",
   "execution_count": 290,
   "metadata": {
    "collapsed": false
   },
   "outputs": [
    {
     "data": {
      "image/png": "[encoded data removed]",
      "text/plain": [
       "<matplotlib.figure.Figure at 0x114468690>"
      ]
     },
     "metadata": {},
     "output_type": "display_data"
    }
   ],
   "source": [
    "# Plot brand multiplier distribution\n",
    "plt.figure(figsize=(10, 6))\n",
    "plt.hist(posterior_samples['br'].mean(axis=0), bins=100, density=True)\n",
    "plt.title('Sampled Posterior Probability Density for Brands')\n",
    "\n",
    "plt.show()"
   ]
  }
 ],
 "metadata": {
  "kernelspec": {
   "display_name": "Python 2",
   "language": "python",
   "name": "python2"
  },
  "language_info": {
   "codemirror_mode": {
    "name": "ipython",
    "version": 2
   },
   "file_extension": ".py",
   "mimetype": "text/x-python",
   "name": "python",
   "nbconvert_exporter": "python",
   "pygments_lexer": "ipython2",
   "version": "2.7.12"
  }
 },
 "nbformat": 4,
 "nbformat_minor": 2
}
