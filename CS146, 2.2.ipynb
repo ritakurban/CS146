{
 "cells": [
  {
   "cell_type": "markdown",
   "metadata": {},
   "source": [
    "# Call center data modeling\n",
    "\n",
    "You are advising a client on the number of call center agents they need to handle their customer support load. We start by modeling the number of phone calls we expect to come into the call center during each hour of the day.\n",
    "\n",
    "You are provided with a data set of the intervals between phone calls arriving during one day. Each value is a time in minutes indicating the amount of time that passed between receiving two consecutive phone calls.\n",
    "\n",
    "## Loading the data"
   ]
  },
  {
   "cell_type": "code",
   "execution_count": 1,
   "metadata": {
    "collapsed": true
   },
   "outputs": [],
   "source": [
    "import numpy as np\n",
    "from scipy import stats\n",
    "import matplotlib.pyplot as plt"
   ]
  },
  {
   "cell_type": "code",
   "execution_count": 2,
   "metadata": {
    "collapsed": true
   },
   "outputs": [],
   "source": [
    "# Load the data set containing durations between calls arriving at the call center.\n",
    "# All values are in minutes.\n",
    "waiting_times_day = np.loadtxt('call_center.csv')"
   ]
  },
  {
   "cell_type": "code",
   "execution_count": 4,
   "metadata": {
    "collapsed": false
   },
   "outputs": [
    {
     "name": "stdout",
     "output_type": "stream",
     "text": [
      "('Size of data set:', 5891)\n",
      "('First 5 values in data set:', array([ 5.36,  2.48,  8.08,  1.54, 11.1 ]))\n",
      "('Sum of data set:', 1442.145437310004)\n"
     ]
    }
   ],
   "source": [
    "print('Size of data set:', len(waiting_times_day))\n",
    "print('First 5 values in data set:', waiting_times_day[:5])\n",
    "print('Sum of data set:', sum(waiting_times_day))"
   ]
  },
  {
   "cell_type": "markdown",
   "metadata": {},
   "source": [
    "Since the values are intervals between calls measured in minutes, this means\n",
    "\n",
    "* we assume the first call happened at 00:00 (midnight),\n",
    "* the second call happened at about 00:05 (5.36 minutes after midnight),\n",
    "* the third call happened at about 00:07 (5.36 + 2.48 minutes),\n",
    "* the fourth call happened at about 00:15, etc.\n",
    "\n",
    "When we sum the values, we get about 1440 minutes (1 day)."
   ]
  },
  {
   "cell_type": "markdown",
   "metadata": {},
   "source": [
    "You are told that the number of calls arriving varies quite a lot, depending on which hour of the day it is. The smallest number of calls usually occur around 3am or 4am. Most calls usually come in between 11am and 1pm.\n",
    "\n",
    "## Data pre-processing\n",
    "Since we expect different call rates during different hours, we split the data set into 24 separate series — one for each hour of the day."
   ]
  },
  {
   "cell_type": "code",
   "execution_count": 5,
   "metadata": {
    "collapsed": false
   },
   "outputs": [
    {
     "name": "stdout",
     "output_type": "stream",
     "text": [
      "00:00-01:00 - 7 calls\n",
      "01:00-02:00 - 5 calls\n",
      "02:00-03:00 - 8 calls\n",
      "03:00-04:00 - 7 calls\n",
      "04:00-05:00 - 21 calls\n",
      "05:00-06:00 - 42 calls\n",
      "06:00-07:00 - 96 calls\n",
      "07:00-08:00 - 189 calls\n",
      "08:00-09:00 - 274 calls\n",
      "09:00-10:00 - 344 calls\n",
      "10:00-11:00 - 487 calls\n",
      "11:00-12:00 - 892 calls\n",
      "12:00-13:00 - 869 calls\n",
      "13:00-14:00 - 401 calls\n",
      "14:00-15:00 - 206 calls\n",
      "15:00-16:00 - 169 calls\n",
      "16:00-17:00 - 261 calls\n",
      "17:00-18:00 - 430 calls\n",
      "18:00-19:00 - 579 calls\n",
      "19:00-20:00 - 383 calls\n",
      "20:00-21:00 - 136 calls\n",
      "21:00-22:00 - 45 calls\n",
      "22:00-23:00 - 28 calls\n",
      "23:00-24:00 - 12 calls\n"
     ]
    }
   ],
   "source": [
    "# Split the data into 24 separate series, one for each hour of the day\n",
    "current_time = 0\n",
    "waiting_times_per_hour = [[] for _ in range(24)]  # Make 24 empty lists, one per hour\n",
    "for t in waiting_times_day:\n",
    "    current_hour = int(current_time // 60)\n",
    "    current_time += t\n",
    "    waiting_times_per_hour[current_hour].append(t)\n",
    "\n",
    "for hour, waiting_times_hour in enumerate(waiting_times_per_hour):\n",
    "    print('%02i:00-%02i:00 - %i calls' % (hour, hour + 1, len(waiting_times_hour)))"
   ]
  },
  {
   "cell_type": "markdown",
   "metadata": {},
   "source": [
    "## Task 1: Plot the number of calls per hour\n",
    "Use Matplotlib to visualize the number of calls that arrive during each hour of the day. The numbers are shown in the output above. You should find an appropriate way to visualize it."
   ]
  },
  {
   "cell_type": "code",
   "execution_count": 12,
   "metadata": {
    "collapsed": false
   },
   "outputs": [
    {
     "data": {
      "image/png": "[encoded data removed]",
      "text/plain": [
       "<matplotlib.figure.Figure at 0x10b61c790>"
      ]
     },
     "metadata": {},
     "output_type": "display_data"
    }
   ],
   "source": [
    "calls = []\n",
    "for i in waiting_times_per_hour:\n",
    "    calls.append(len(i))\n",
    "plt.figure(figsize=(8, 4))\n",
    "plt.plot(calls)\n",
    "plt.show()"
   ]
  },
  {
   "cell_type": "markdown",
   "metadata": {},
   "source": [
    "## Task 2: Plot a histogram of the durations for one hour\n",
    "Take the data for the 11th hour (so between 11am and 12pm) and plot a histogram showing the distribution over waiting times between calls during that hour."
   ]
  },
  {
   "cell_type": "code",
   "execution_count": 17,
   "metadata": {
    "collapsed": false
   },
   "outputs": [
    {
     "data": {
      "image/png": "[encoded data removed]",
      "text/plain": [
       "<matplotlib.figure.Figure at 0x10b97d5d0>"
      ]
     },
     "metadata": {},
     "output_type": "display_data"
    }
   ],
   "source": [
    "eleven = waiting_times_per_hour[11]\n",
    "plt.hist(eleven)\n",
    "plt.title('Distribution Over Waiting Times')\n",
    "plt.show()"
   ]
  },
  {
   "cell_type": "markdown",
   "metadata": {
    "collapsed": true
   },
   "source": [
    "## Task 3: Guess the distribution\n",
    "What type of distribution best represents the data in your histogram?\n",
    "\n",
    "* Identify a type of distribution.\n",
    "* Guess what the parameters of the distribution are.\n",
    "* Plot the pdf of your best guess on top of your histogram, to see if they match.\n",
    "* Important: you have to normalize your histogram so that it will have the same vertical scale as the plot of the pdf. You can normalize a histogram by using the argument `normed=True` in the `hist` function."
   ]
  },
  {
   "cell_type": "markdown",
   "metadata": {},
   "source": [
    "The Gamma (or exponetial, to be more precise) distribution is approprite for modeling waiting times because it is the distribution of a sum of independent exponential random variables, and the exponential distribution is a natural model for individual waiting times, due to its memorylessness.\n",
    "To identify the parameters, I simply looked at the rate of change of the histigram and found out that the scale parameter should be around 10 to closely fit the distribution."
   ]
  },
  {
   "cell_type": "code",
   "execution_count": 74,
   "metadata": {
    "collapsed": false
   },
   "outputs": [
    {
     "data": {
      "image/png": "[encoded data removed]",
      "text/plain": [
       "<matplotlib.figure.Figure at 0x10b977290>"
      ]
     },
     "metadata": {},
     "output_type": "display_data"
    }
   ],
   "source": [
    "gamma = stats.gamma(a=1., scale=1/10.3)\n",
    "# Plot the pdf\n",
    "plt.figure(figsize=(8, 4))\n",
    "x = np.linspace(0, 1)\n",
    "plt.hist(eleven, normed = True)\n",
    "plt.plot(x, gamma.pdf(x))\n",
    "plt.show()"
   ]
  }
 ],
 "metadata": {
  "kernelspec": {
   "display_name": "Python 2",
   "language": "python",
   "name": "python2"
  },
  "language_info": {
   "codemirror_mode": {
    "name": "ipython",
    "version": 2
   },
   "file_extension": ".py",
   "mimetype": "text/x-python",
   "name": "python",
   "nbconvert_exporter": "python",
   "pygments_lexer": "ipython2",
   "version": "2.7.12"
  }
 },
 "nbformat": 4,
 "nbformat_minor": 2
}
